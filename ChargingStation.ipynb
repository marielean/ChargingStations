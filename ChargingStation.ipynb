{
 "cells": [
  {
   "cell_type": "markdown",
   "metadata": {},
   "source": [
    "# Generare le istanze\n",
    "\n",
    "Prima assicurati di avere tutti i pachetti necessari installati. Se non hai installato i pacchetti, esegui il comando seguente: \n",
    "'''bash\n",
    "pip3 install -r requirements.txt'''"
   ]
  },
  {
   "cell_type": "code",
   "execution_count": 10,
   "metadata": {},
   "outputs": [],
   "source": [
    "import networkx as nx\n",
    "import matplotlib.pyplot as plt\n",
    "from scipy import spatial\n",
    "import random\n",
    "\n",
    "\n",
    "def generate_random_network_tree(n_nodes: int, k_flow: int, edge_dim: int) -> nx.Graph:\n",
    "    \"\"\"\n",
    "    Function to generate a random network tree with k flow\n",
    "    :param \n",
    "        n_nodes: number of nodes in the tree\n",
    "        k_flow: number of flow in the tree\n",
    "        edge_dim: dimension of the edge of the square\n",
    "    :return\n",
    "        Tree: random network tree with k flow\n",
    "    \"\"\"\n",
    "    Tree = nx.random_tree(n_nodes)\n",
    "    for (u, v) in Tree.edges():\n",
    "        Tree.edges[u,v]['weight'] = random.randint(1,10)\n",
    "\n",
    "    return Tree\n",
    "\n",
    "def get_weight_to_edges(Tree : nx.Graph):\n",
    "    \"\"\"\n",
    "    Function to get the weight of the edges of the tree\n",
    "    :param\n",
    "        Tree: Tree to be analyzed\n",
    "    :return\n",
    "        weight_to_edges: dictionary with the weight of the edges\n",
    "    \"\"\"\n",
    "    weight_to_edges = {}\n",
    "    for (u, v) in Tree.edges():\n",
    "        weight_to_edges[(u,v)] = Tree.edges[u,v]['weight']\n",
    "    return weight_to_edges\n",
    "\n",
    "\n",
    "def draw_tree(Tree : nx.Graph):\n",
    "    \"\"\"\n",
    "    Function to draw a tree using networkx\n",
    "    :param \n",
    "        Tree: Tree to be drawn\n",
    "    \"\"\"\n",
    "    colors = {'colonnina':'green', 'no_colonnina':'grey', 'o_k':'red', 'd_k':'yellow'}\n",
    "    #pos = nx.spring_layout(Tree)\n",
    "    nx.draw(Tree, with_labels=True)\n",
    "    plt.show()\n",
    "\n",
    "\n",
    "def get_distance(point1, point2):\n",
    "    \"\"\"\n",
    "    Function to get the distance between two points\n",
    "    :param\n",
    "        point1: first point\n",
    "        point2: second point\n",
    "    :return\n",
    "        distance between the two points\n",
    "    \"\"\"\n",
    "    return spatial.distance.euclidean(point1, point2)"
   ]
  },
  {
   "cell_type": "code",
   "execution_count": 1,
   "metadata": {},
   "outputs": [],
   "source": [
    "import networkx as nx\n",
    "from differentfiles.tree import *\n",
    "#import utility_functions as uf"
   ]
  },
  {
   "cell_type": "code",
   "execution_count": 6,
   "metadata": {},
   "outputs": [
    {
     "ename": "TypeError",
     "evalue": "Tree_net.draw_tree() takes 1 positional argument but 2 were given",
     "output_type": "error",
     "traceback": [
      "\u001b[0;31m---------------------------------------------------------------------------\u001b[0m",
      "\u001b[0;31mTypeError\u001b[0m                                 Traceback (most recent call last)",
      "\u001b[1;32m/home/ion/ChargingStations/ChargingStation.ipynb Cella 3\u001b[0m line \u001b[0;36m5\n\u001b[1;32m      <a href='vscode-notebook-cell://wsl%2Bubuntu/home/ion/ChargingStations/ChargingStation.ipynb#W2sdnNjb2RlLXJlbW90ZQ%3D%3D?line=2'>3</a>\u001b[0m tree_net \u001b[39m=\u001b[39m Tree_net()\n\u001b[1;32m      <a href='vscode-notebook-cell://wsl%2Bubuntu/home/ion/ChargingStations/ChargingStation.ipynb#W2sdnNjb2RlLXJlbW90ZQ%3D%3D?line=3'>4</a>\u001b[0m tree_net\u001b[39m.\u001b[39mgenerate_random_network_tree(\u001b[39m3\u001b[39m, \u001b[39m3\u001b[39m, \u001b[39m150\u001b[39m)\n\u001b[0;32m----> <a href='vscode-notebook-cell://wsl%2Bubuntu/home/ion/ChargingStations/ChargingStation.ipynb#W2sdnNjb2RlLXJlbW90ZQ%3D%3D?line=4'>5</a>\u001b[0m tree_net\u001b[39m.\u001b[39;49mdraw_tree(tree_net)\n",
      "\u001b[0;31mTypeError\u001b[0m: Tree_net.draw_tree() takes 1 positional argument but 2 were given"
     ]
    }
   ],
   "source": [
    "#non vuole andare porca troia con la classe\n",
    "\n",
    "tree_net = Tree_net()\n",
    "tree_net.generate_random_network_tree(3, 3, 150)\n",
    "tree_net.draw_tree(tree_net)"
   ]
  },
  {
   "cell_type": "code",
   "execution_count": 14,
   "metadata": {},
   "outputs": [
    {
     "data": {
      "image/png": "[encoded data removed]",
      "text/plain": [
       "<Figure size 640x480 with 1 Axes>"
      ]
     },
     "metadata": {},
     "output_type": "display_data"
    },
    {
     "name": "stdout",
     "output_type": "stream",
     "text": [
      "{(0, 1): 7, (1, 8): 3, (2, 6): 5, (2, 5): 10, (3, 6): 8, (4, 5): 3, (5, 9): 10, (6, 8): 1, (7, 8): 4}\n"
     ]
    }
   ],
   "source": [
    "T = generate_random_network_tree(10, 3, 150)\n",
    "draw_tree(T)\n",
    "print(get_weight_to_edges(T))"
   ]
  }
 ],
 "metadata": {
  "kernelspec": {
   "display_name": "venv",
   "language": "python",
   "name": "python3"
  },
  "language_info": {
   "codemirror_mode": {
    "name": "ipython",
    "version": 3
   },
   "file_extension": ".py",
   "mimetype": "text/x-python",
   "name": "python",
   "nbconvert_exporter": "python",
   "pygments_lexer": "ipython3",
   "version": "3.10.12"
  }
 },
 "nbformat": 4,
 "nbformat_minor": 2
}
